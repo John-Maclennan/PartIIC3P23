{
 "cells": [
  {
   "cell_type": "markdown",
   "metadata": {},
   "source": [
    "# Practical 23: Estimating Mantle Temperature #\n",
    "## John Maclennan, Lent 2022 ##\n"
   ]
  },
  {
   "cell_type": "markdown",
   "metadata": {},
   "source": [
    "## 1. Petrological and Geochemical Constraints on Mantle Temperatures\n",
    "\n",
    "In earlier lectures and practicals you have examined some of the methods that have been used to estimate mantle potential temperatures, $T_p$, from observations at mid-ocean ridges. In particular we have investigated how correlated variations in oceanic crustal thickness, ridge axial depth and MORB chemistry can be understood within the framework of a simple model of adiabatic decompression melting. The correlated variations are thought to reflect variations in $T_p$ of about 200$^{\\circ}$C around the global MOR system.\n",
    "\n",
    "It is useful to find independent observations that can be used to constrain $T_p$ that rely on different sets of assumptions to those involved in the modelling described above. One of the most promising of these is a technique based on the temperature-dependence of aluminium partitioning into olivine (Al-in-ol thermometer).\n",
    "\n",
    "## 2. How Does Al-in-ol Thermometry Work?\n",
    "\n",
    "### 15 minutes ###\n",
    "\n",
    "As you might expect from thermodynamic arguments, the ability of olivine to tolerate Al within its structure increases with increasing temperature. In effect, the partition coefficient of Al between olivine and melt rises at higher temperatures. It is also well known that the partitioning of Fe and Mg between olivine and melt is strongly temperature dependent. So, if we can find pairs of olivine and liquid that we know were in chemical equilibrium at igneous conditions, we might be able to use them as thermometers - much like the approach that you may familiar with from metamorphic petrology.\n",
    "\n",
    "### Petrography, chemical mapping and equilibrium\n",
    "Take a look at the image below, which shows a map of the Fe content of part of the glassy rim of an olivine-porphyritic pillow lava. The basaltic glass is blue and olivines are mostly green. \n",
    "\n",
    "![](femap.jpg)\n",
    "\n",
    "The zonation patterns observed in the olivines are almost ubiquitous in macrocrysts from MORB. \n",
    "\n",
    "__Q2.1 What challenges do such zoning patterns present for thermometry in basaltic systems?___\n",
    "\n",
    "_ANSWER_"
   ]
  },
  {
   "cell_type": "markdown",
   "metadata": {},
   "source": [
    "### Thermometry equations\n",
    "\n",
    "In order to circumvent these problems, workers such as [Coogan et al.](http://www.sciencedirect.com/science/article/pii/S0009254114000278) have investigated the partitioning of Al between olivine and spinel. The hope here is that spinel inclusions trapped inside olivine crystallisting from primitive melts can retain their high temperature equilibrium compositions because Al diffusion is very slow in olivine. Chromian spinel is a common liquidus phase in primitive basaltic melts, so is often found in association with highly forsteritic olivines that grow at high temperatures in basaltic systems.\n",
    "\n",
    "Coogan et al. suggested that the dominiant mode of Al exchange between olivine and spinel involved the following reaction:\n",
    "\n"
   ]
  },
  {
   "cell_type": "markdown",
   "metadata": {},
   "source": [
    "$$\\require{mhchem}$$\n",
    "\n",
    "\n",
    "$\\ce{MgAl2O4 (spinel) -> (MgAl) AlO4 (olivine)}$\n",
    "\n",
    "with the charge balance being maintained as $\\ce{Al^{3}+}$ replaces one $\\ce{Mg^{2}+}$ on an M site and one $\\ce{Si^{4}+}$ on a T site when compared with forsterite $\\ce{Mg2SiO4}$. Their experimental data was used to provide the following empirical thermometer for Al-in-ol:"
   ]
  },
  {
   "cell_type": "markdown",
   "metadata": {},
   "source": [
    "$$T = \\frac{10000}{(A +B \\times Cr{\\#} + C \\times \\ln{k_d})}$$"
   ]
  },
  {
   "cell_type": "markdown",
   "metadata": {},
   "source": [
    "where $T$ is the equilibrium temperature in Kelvin, the 'chrome-number' of the spinel is given by: \n",
    "\n",
    "$$ Cr{\\#} = \\frac{X_{Cr}}{X_{Cr}+X_{Al}}$$\n",
    "\n",
    "with $X_{Cr}$ and $X_{Al}$ being the mole fractions of Cr and Al in the spinel. The partition coefficient of Al between the olivine and spinel is given by \n",
    "\n",
    "$$ k_d = \\frac{\\ce{Al2O3^{ol}}}{\\ce{Al2O3^{sp}}}$$\n",
    "\n",
    "with $\\ce{Al2O3^{ol}}$ and $\\ce{Al2O3^{sp}}$ being wt% oxide contents of Al in the olivine and spinel respectively. The constants in the thermometer are determined by multiple linear regression and are given as $A= 0.575 \\pm 0.162$, $B= 0.884 \\pm 0.043$ and $C = -0.897 \\pm 0.25$ by Coogan et al.\n",
    "\n",
    "Check by inspection of the equations that you can see that higher Al contents in olivines correspond to higher temperatures of equilibration."
   ]
  },
  {
   "cell_type": "markdown",
   "metadata": {},
   "source": [
    "## 3. Application of the Thermometer to data from Spreading Ridges ##\n",
    "\n",
    "### 30 minutes ###"
   ]
  },
  {
   "cell_type": "markdown",
   "metadata": {},
   "source": [
    "### Data Processing \n",
    "A table is provided in the file *olsp.csv* that contains olivine and spinel compositions from various spreading ridge settings. Using what you learnt in the last practical, read in this file. Read the [manual](https://pandas.pydata.org/pandas-docs/stable/reference/api/pandas.read_csv.html) and add this line of code to a cell below. \n",
    "\n",
    "__HINT 1: A good place to start is to look at the example usage__\n",
    "\n",
    "__HINT 2: You'll need to read this into a \"dataframe\"__"
   ]
  },
  {
   "cell_type": "code",
   "execution_count": 21,
   "metadata": {},
   "outputs": [],
   "source": [
    "import numpy as np\n",
    "import pandas as pd\n",
    "import matplotlib.pyplot as plt"
   ]
  },
  {
   "cell_type": "code",
   "execution_count": 52,
   "metadata": {
    "scrolled": true
   },
   "outputs": [],
   "source": [
    "# code in here"
   ]
  },
  {
   "cell_type": "markdown",
   "metadata": {},
   "source": [
    "The compositions are provided as wt% oxides and the olivine compositions are in columns with the \"_ol\" in the header and the spinel compositions have \"_sp\". Next, we should calculate the forsterite content of the olivines and store it in the same data file. Use the same approach as in the previous practicals to add a new column to your dataframe that contains your estimate of forsterite content. Here is a [useful Pandas data wrangling cheatsheet](https://pandas.pydata.org/Pandas_Cheat_Sheet.pdf) - look for \"Make New Columns\". To calculate the molar proportion of forsterite in the olivine compositions we need to set the molecular weights of FeO and MgO.  "
   ]
  },
  {
   "cell_type": "code",
   "execution_count": 53,
   "metadata": {
    "scrolled": true
   },
   "outputs": [],
   "source": [
    "# code in here"
   ]
  },
  {
   "cell_type": "markdown",
   "metadata": {},
   "source": [
    "Now, let's make a plot to see if we can see any obvious differences in the Al content of olivines from different portions of the mid-ocean ridge system. Rather than using `pygmt` as in previous practicals, we will save memory by user the leaner approach of `pandas` and `matplotlib` because we are not making maps today. "
   ]
  },
  {
   "cell_type": "code",
   "execution_count": 26,
   "metadata": {
    "lines_to_next_cell": 2,
    "scrolled": true
   },
   "outputs": [
    {
     "data": {
      "image/png": "[encoded data removed]",
      "text/plain": [
       "<Figure size 432x288 with 1 Axes>"
      ]
     },
     "metadata": {
      "needs_background": "light"
     },
     "output_type": "display_data"
    }
   ],
   "source": [
    "# Plot example - edit this!\n",
    "groups = olsp.groupby('Ridge') # in this case olsp is the dataframe name with the olivine and spinel data\n",
    "\n",
    "fig, ax = plt.subplots()\n",
    "ax.margins(0.05) # Optional, just adds 5% padding to the autoscaling\n",
    "for name, group in groups: # loops through the groups\n",
    "    ax.plot(group.fo, group.Al2O3_ol, marker='o', linestyle='', ms=12, label=name) # edit this line to plot what you need\n",
    "ax.legend() # plots legends\n",
    "\n",
    "plt.show()\n",
    "\n"
   ]
  },
  {
   "cell_type": "markdown",
   "metadata": {},
   "source": [
    "__Q3.1 Based on the observations in this graph, what would be your initial estimate of the relative $T_p$ in Iceland and other stretches of spreading ridges? Justify this answer.__\n",
    "\n",
    "_ANSWER_ \n",
    "\n"
   ]
  },
  {
   "cell_type": "markdown",
   "metadata": {},
   "source": [
    "## 4. Quantifying Crystallisation Temperatures ##\n",
    "\n",
    "### 30 minutes ###\n",
    "\n",
    "Next, we should quantify the crystallisation temperatures, putting code in the cell below. First, calculate the terms required for the thermometry equation. Define the constants that you will need. Then generate a new column in a similar way as shown in the forsterite example above to calculate the individual terms in the equation and then the temperature estimate itself."
   ]
  },
  {
   "cell_type": "code",
   "execution_count": 30,
   "metadata": {},
   "outputs": [
    {
     "data": {
      "text/plain": [
       "0     1587.785794\n",
       "1     1553.681160\n",
       "2     1535.451135\n",
       "3     1538.708713\n",
       "4     1541.195179\n",
       "         ...     \n",
       "77    1404.711714\n",
       "78    1435.389154\n",
       "79    1461.423309\n",
       "80    1432.412187\n",
       "81    1462.476686\n",
       "Name: tk, Length: 82, dtype: float64"
      ]
     },
     "execution_count": 30,
     "metadata": {},
     "output_type": "execute_result"
    }
   ],
   "source": [
    "# write code here\n"
   ]
  },
  {
   "cell_type": "markdown",
   "metadata": {},
   "source": [
    "Next, plot the crystallisation temperature estimate, in $^{\\circ}$C, against the forsterite content of the olivine. The `pandas` [scatter plot](https://pandas.pydata.org/pandas-docs/stable/reference/api/pandas.DataFrame.plot.scatter.html) is a quick way of doing this. If needs be you can subset the data according to Locality. "
   ]
  },
  {
   "cell_type": "code",
   "execution_count": 55,
   "metadata": {
    "lines_to_next_cell": 2,
    "scrolled": true
   },
   "outputs": [],
   "source": [
    "# write code here"
   ]
  },
  {
   "cell_type": "markdown",
   "metadata": {},
   "source": [
    "__Q4.1 Comment on the observed relationship between olivine-spinel equilibration temperature and host olivine forsterite content within the Icelandic sample set. Which of these olivine-spinel pairs is most suitable for estimating mantle temperatures?__\n",
    "\n",
    "_ANSWER_\n",
    "\n"
   ]
  },
  {
   "cell_type": "markdown",
   "metadata": {},
   "source": [
    "__Q4.2 What is the apparent temperature difference between the crystallisation of the most primitive melts from Iceland and the East Pacific rise? How does this difference compare with the global temperature variations inferred from the correlations between observed Na<sub>8</sub> and oceanic crustal thickness?__\n",
    "\n",
    "_ANSWER_\n"
   ]
  },
  {
   "cell_type": "markdown",
   "metadata": {},
   "source": [
    "## 5. Estimating Potential Temperature ##\n",
    "\n",
    "### 45 minutes ###\n",
    "\n",
    "Now we can use the estimates of crystallisation temperature of primitive melts from Iceland and the EPR to infer mantle $T_p$ in these settings.\n",
    "\n",
    "__Q5.1 Why are maximum crystallisation temperatures and mantle $T_p$ not identical?__\n",
    "\n",
    "_ANSWER_\n"
   ]
  },
  {
   "cell_type": "markdown",
   "metadata": {},
   "source": [
    "In order to convert crystallisation temperatures in $T-p$ estimates is to necessary to make a number of simplifying assumptions. First of all, we need a parameterisation of the shape of the solidus for typical lherzolitic upper mantle. [Hirschmann](https://www.esci.umn.edu/sites/www.esci.umn.edu/files/groups/hirschmann/peridotite-solidus-G3.pdf) provided a parameterisation of the solidus of such material as \n",
    "\n",
    "$$T_s = -5.410P^{2} + 132.99P + 1120.661$$\n",
    "\n",
    "with $T_s$ in $^{\\circ}$C and $P$ in GPa. Furthermore, the temperature at any depth along a geotherm defined by the adiabat for mantle of a fixed potential temperature in __Kelvin__ is given by \n",
    "\n",
    "$$ T_z = T_p \\exp{\\left[ \\frac{g \\alpha z}{C_p} \\right]} $$\n",
    "\n",
    "with the specific heat capacity $C_p = 1300$ J kg<sup>-1</sup> K<sup>-1</sup> and the thermal expansion coefficient, $\\alpha = 1.5 \\times 10^{-5}$ K<sup>-1</sup>.\n",
    "\n",
    "__5.2 Express this function in terms of pressure rather than depth, and alter the units such that $P$ is in GPa and temperatures in $^{\\circ}$C.__\n",
    "\n",
    "_ANSWER_\n"
   ]
  },
  {
   "cell_type": "markdown",
   "metadata": {},
   "source": [
    "Functions can be plotted and labelled in `Python` and `Matplotlib` using the following commands, with the examples here being a straight line $y_1=mx+c$ and the curve $y_2=x^2$"
   ]
  },
  {
   "cell_type": "code",
   "execution_count": 44,
   "metadata": {
    "lines_to_next_cell": 2,
    "scrolled": true
   },
   "outputs": [
    {
     "data": {
      "image/png": "[encoded data removed]",
      "text/plain": [
       "<Figure size 432x288 with 1 Axes>"
      ]
     },
     "metadata": {
      "needs_background": "light"
     },
     "output_type": "display_data"
    }
   ],
   "source": [
    "def y1(x):\n",
    "    m=10\n",
    "    c=3\n",
    "    y = m*x +c\n",
    "    return y   \n",
    "\n",
    "def y2(x):\n",
    "    y = x*x\n",
    "    return y\n",
    "\n",
    "# create an array containing x values\n",
    "x = np.arange(0., 10., 0.01)\n",
    "\n",
    "# red dashes, blue squares and green triangles - note how to develop the functional form\n",
    "plt.plot(x, x, 'r--', x, y1(x), 'bs', x, y2(x), 'g^')\n",
    "plt.show()\n"
   ]
  },
  {
   "cell_type": "markdown",
   "metadata": {},
   "source": [
    "__Q5.3 Write code into the cell below to plot the lherzolite solidus and adiabats for $T_p$ of 1300$^{\\circ}$C, 1400$^{\\circ}$C and 1500$^{\\circ}$C. Plot these as a function of pressure, $P$, in GPa.__\n"
   ]
  },
  {
   "cell_type": "code",
   "execution_count": 54,
   "metadata": {
    "scrolled": true
   },
   "outputs": [],
   "source": [
    "# HINT - use the example from above as a starting point!"
   ]
  },
  {
   "cell_type": "markdown",
   "metadata": {},
   "source": [
    "The effect of latent heat of melting means that the thermal gradient in the melting region is much steeper than that of the adiabat in the absence of melting. In a recent paper, [Matthews et al., 2016](http://onlinelibrary.wiley.com/wol1/doi/10.1002/2016GC006497/full) showed that this gradient may be close to $40^{\\circ}$C GPa<sup>-1</sup>. Using the crystallisation temperatures that you calculated for Iceland and Siquerois in a previous section, you can now estimate the mantle $T_p$ for these settings. The approach is to extrapolate the crystallisation temperature from the pressure of crystallisation along the thermal gradient in the melting region until this geotherm intersects the solidus. Then, from the solidus intersection point, return to 1 bar pressure along the adiabat in the absence of melting to provide the mantle $T_p$ estimate.\n",
    "\n",
    "You should be aware that independent estimates of crystallisation pressure for the forsteritic olivines from Borgarhaun, Iceland are 0.8 GPa and for the Siqueiros are 0.2 GPa. \n",
    "\n",
    "__Q5.4 Use this information to estimate the mantle $T_p$ under Iceland and under Siqueiros. You can employ a graphical technique, by adding more lines to the plot above. Alternatively, you can solve a quadratic equation to estimate the point of intersection of the geotherm with the solidus in both cases.__\n",
    "\n",
    "_ANSWER_\n",
    "\n"
   ]
  },
  {
   "cell_type": "markdown",
   "metadata": {},
   "source": [
    "__Q5.5 Comment on the likely sources of uncertainty in such estimates of mantle $T_p$.__\n",
    "\n",
    "_ANSWER_\n"
   ]
  },
  {
   "cell_type": "markdown",
   "metadata": {},
   "source": [
    "## Comparison with Other Estimates of Global $T_p$ Variation ##\n",
    "\n",
    "Please read [Matthews et al., 2016](http://onlinelibrary.wiley.com/wol1/doi/10.1002/2016GC006497/full) for a fuller description of this method and the uncertainties involved.  An updated and broader approach based on this method is provided by [Matthews et al., 2021](https://agupubs.onlinelibrary.wiley.com/doi/abs/10.1029/2020GC009157). Also, take a look at the papers from, for example, [Dalton et al., 2014](http://science.sciencemag.org/content/344/6179/80.full) for an understanding of how such petrological constraints on mantle $T_p$ might be related to geophysical observables. "
   ]
  }
 ],
 "metadata": {
  "jupytext": {
   "cell_metadata_filter": "tags,name,-all",
   "main_language": "R",
   "notebook_metadata_filter": "-all"
  },
  "kernelspec": {
   "display_name": "Python 3",
   "language": "python",
   "name": "python3"
  },
  "language_info": {
   "codemirror_mode": {
    "name": "ipython",
    "version": 3
   },
   "file_extension": ".py",
   "mimetype": "text/x-python",
   "name": "python",
   "nbconvert_exporter": "python",
   "pygments_lexer": "ipython3",
   "version": "3.8.5"
  }
 },
 "nbformat": 4,
 "nbformat_minor": 4
}
